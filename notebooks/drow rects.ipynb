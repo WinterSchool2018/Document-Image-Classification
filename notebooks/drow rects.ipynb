{
 "cells": [
  {
   "cell_type": "code",
   "execution_count": 1,
   "metadata": {
    "collapsed": true
   },
   "outputs": [],
   "source": [
    "import cv2\n",
    "import numpy as np\n",
    "from matplotlib import pyplot as plt\n",
    "%matplotlib inline"
   ]
  },
  {
   "cell_type": "code",
   "execution_count": 2,
   "metadata": {
    "collapsed": true
   },
   "outputs": [],
   "source": [
    "#fields on the first page\n",
    "rects1 = [((1497, 231), (1505,254)),\n",
    "((1567, 238), (1604, 252)),\n",
    "((1586, 423), (2355, 452)),\n",
    "((568, 598), (582, 612)),\n",
    "((998, 598), (1012, 615)),\n",
    "((1046, 601), (1061, 618)),\n",
    "((1146, 604), (1158, 619)),\n",
    "((1898,314), (1912, 332))]\n",
    "\n",
    "#fields on the second page\n",
    "rects2 = [((672, 1694),(692, 1708)),\n",
    "((748, 1696), (772, 1709)),\n",
    "((1725, 2281), (2394,2297)),\n",
    "((1393, 2320), (1954, 2333)),\n",
    "((1799, 2361), (2203, 2377)),\n",
    "((1179, 2773), (1711, 2826))]"
   ]
  },
  {
   "cell_type": "code",
   "execution_count": 3,
   "metadata": {
    "collapsed": true
   },
   "outputs": [],
   "source": [
    "filename = 'dog2_empty.jpg'\n",
    "rects = rects2\n",
    "document = cv2.imread(filename, cv2.IMREAD_GRAYSCALE)\n",
    "#cv2.imshow('test',document)\n",
    "#cv2.waitKey(0)\n",
    "#cv2.destroyAllWindows()"
   ]
  },
  {
   "cell_type": "code",
   "execution_count": null,
   "metadata": {
    "collapsed": true
   },
   "outputs": [],
   "source": [
    "def drow_rectangle(img, p1, p2):\n",
    "    cv2.rectangle(img, p1, p2, (0, 0, 255), 1)"
   ]
  },
  {
   "cell_type": "code",
   "execution_count": 5,
   "metadata": {
    "collapsed": true
   },
   "outputs": [],
   "source": [
    "def calc_image(img):\n",
    "    \"\"\"\n",
    "    Функция возвращает процент чернил в картинке\n",
    "    \"\"\"\n",
    "    thresholded = cv2.threshold(img, 0, 255, cv2.THRESH_BINARY_INV | cv2.THRESH_OTSU)[1]\n",
    "\n",
    "    count_of_pixel = np.count_nonzero(thresholded)\n",
    "    percent = 100 * np.count_nonzero(thresholded) / (img.size)\n",
    "\n",
    "    return percent\n",
    "\n",
    "def is_signature(img, threshold=10):\n",
    "    \"\"\"\n",
    "    Проверяем есть ли подпись в ``img``\n",
    "    :param threshold: порог, при котором мы считаем, что подпись есть\n",
    "    :param img: вырезанное изображение подписи\n",
    "    :return: true/false\n",
    "    \"\"\"\n",
    "    percent = calc_image(img)\n",
    "    return percent > threshold, round(percent, 3)"
   ]
  },
  {
   "cell_type": "code",
   "execution_count": 6,
   "metadata": {
    "collapsed": true
   },
   "outputs": [],
   "source": [
    "def drow_rects(document, rects):\n",
    "    for rect in rects:\n",
    "        p1,p2 = rect\n",
    "        #x1,y1 = p1\n",
    "        #x2,y2 = p2\n",
    "        drow_rectangle(document, p1, p2)\n",
    "        #cv2.imshow('test', field_img)\n",
    "     \n",
    "    #plt.imshow(document, cmap='gray')\n",
    "    #cv2.waitKey(0)\n",
    "    #cv2.destroyAllWindows()\n",
    "    \n",
    "    cv2.imshow('test',document)\n",
    "    cv2.waitKey(0)\n",
    "    cv2.destroyAllWindows()\n",
    "    "
   ]
  },
  {
   "cell_type": "code",
   "execution_count": null,
   "metadata": {
    "collapsed": true
   },
   "outputs": [],
   "source": [
    "drow_rects(document,rects)"
   ]
  },
  {
   "cell_type": "code",
   "execution_count": null,
   "metadata": {
    "collapsed": true
   },
   "outputs": [],
   "source": []
  },
  {
   "cell_type": "code",
   "execution_count": null,
   "metadata": {
    "collapsed": true
   },
   "outputs": [],
   "source": []
  },
  {
   "cell_type": "code",
   "execution_count": null,
   "metadata": {
    "collapsed": true
   },
   "outputs": [],
   "source": []
  }
 ],
 "metadata": {
  "kernelspec": {
   "display_name": "Python 3",
   "language": "python",
   "name": "python3"
  },
  "language_info": {
   "codemirror_mode": {
    "name": "ipython",
    "version": 3
   },
   "file_extension": ".py",
   "mimetype": "text/x-python",
   "name": "python",
   "nbconvert_exporter": "python",
   "pygments_lexer": "ipython3",
   "version": "3.6.3"
  }
 },
 "nbformat": 4,
 "nbformat_minor": 2
}
