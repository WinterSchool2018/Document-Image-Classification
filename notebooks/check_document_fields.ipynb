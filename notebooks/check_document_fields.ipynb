{
 "cells": [
  {
   "cell_type": "code",
   "execution_count": null,
   "metadata": {
    "collapsed": true
   },
   "outputs": [],
   "source": [
    "import cv2\n",
    "import numpy as np\n",
    "from matplotlib import pyplot as plt"
   ]
  },
  {
   "cell_type": "code",
   "execution_count": null,
   "metadata": {
    "collapsed": true
   },
   "outputs": [],
   "source": [
    "#Points coordinats for two NSU documents \n",
    "\n",
    "#Договор на общагу НГУ №1\n",
    "dog1 = [((1497, 231), (1505,254)),\n",
    "((1567, 238), (1604, 252)),\n",
    "((1586, 423), (2355, 452)),\n",
    "((568, 598), (582, 612)),\n",
    "((998, 598), (1012, 615)),\n",
    "((1046, 601), (1061, 618)),\n",
    "((1146, 604), (1158, 619)),\n",
    "((1898,314), (1912, 332))]\n",
    "\n",
    "# Договор на общагу НГУ №2\n",
    "dog2 = [((672, 1694),(692, 1708)),\n",
    "((748, 1696), (772, 1709)),\n",
    "((1725, 2281), (2394,2297)),\n",
    "((1393, 2320), (1954, 2333)),\n",
    "((1799, 2361), (2203, 2377)),\n",
    "((1179, 2773), (1711, 2826))]\n",
    "\n",
    "\n",
    "# Договор на повторный курс НГУ\n",
    "dog3 = [((354,1108),(1976,1140)),\n",
    "       ((510,1212),(1274,1242)),\n",
    "       ((1434,1214),(1862,1240)),\n",
    "       ((1562,1214),(1862,1240)),\n",
    "       ((1958,1208),(2030,1236)),\n",
    "       ((358,1262),(2268,1302)),\n",
    "       ((1206,1376),(2292,1404)),\n",
    "       ((1630,1476),(2290,1500)),\n",
    "       ((495,1516),(2292,1542)),\n",
    "       ((1786,1822),(2270,1846)),\n",
    "       ((1632,1914),(2166,1940)),\n",
    "       ((1380,2060),(1746,2086)),\n",
    "       ((1768,2058),(2188,2084))]\n",
    "\n",
    "# Nist договор #1\n",
    "nist_rect = [((230,131),(831,141)),\n",
    "((229,169),(732,180)),\n",
    "((232,207),(732,218)),\n",
    "]"
   ]
  },
  {
   "cell_type": "code",
   "execution_count": null,
   "metadata": {
    "collapsed": true
   },
   "outputs": [],
   "source": []
  },
  {
   "cell_type": "code",
   "execution_count": null,
   "metadata": {
    "collapsed": true
   },
   "outputs": [],
   "source": [
    "test1 = cv2.imread('Nist_1.jpg', cv2.IMREAD_GRAYSCALE)\n",
    "#cv2.namedWindow('exm', cv2.WINDOW_NORMAL)\n",
    "#cv2.imshow ('exm',test1)\n",
    "#cv2.waitKey(0)\n",
    "#cv2.destroyAllWindows()"
   ]
  },
  {
   "cell_type": "code",
   "execution_count": null,
   "metadata": {
    "collapsed": true
   },
   "outputs": [],
   "source": []
  },
  {
   "cell_type": "code",
   "execution_count": null,
   "metadata": {
    "collapsed": true
   },
   "outputs": [],
   "source": [
    "   def calc_image(img):\n",
    "    \"\"\"\n",
    "    Функция возвращает процент чернил в картинке\n",
    "    \"\"\"\n",
    "    thresholded = cv2.threshold(img, 0, 255, cv2.THRESH_BINARY_INV | cv2.THRESH_OTSU)[1]\n",
    "\n",
    "    count_of_pixel = np.count_nonzero(thresholded)\n",
    "    percent = 100 * np.count_nonzero(thresholded) / (img.shape[0] * img.shape[1])\n",
    "\n",
    "    return percent\n",
    "\n",
    "def is_signature(img, threshold=10):\n",
    "    \"\"\"\n",
    "    Проверяем есть ли подпись в ``img``\n",
    "    :param threshold: порог, при котором мы считаем, что подпись есть\n",
    "    :param img: вырезанное изображение подписи\n",
    "    :return: true/false\n",
    "    \"\"\"\n",
    "    percent = calc_image(img)\n",
    "    return percent > threshold, round(percent, 3)"
   ]
  },
  {
   "cell_type": "code",
   "execution_count": null,
   "metadata": {
    "collapsed": true
   },
   "outputs": [],
   "source": [
    "# x and y coordinates mixed up with each other\n",
    "def is_valid(document, rects):\n",
    "    for rect in rects:\n",
    "        p1,p2 = rect\n",
    "        x1,y1 = p1\n",
    "        x2,y2 = p2\n",
    "        valid = True\n",
    "        field_img = document[y1:y2,x1:x2]\n",
    "        #cv2.imshow('test', field_img)\n",
    "        plt.imshow(field_img, cmap = 'gray', interpolation = 'bicubic')\n",
    "        plt.xticks([]), plt.yticks([])\n",
    "        plt.show()\n",
    "        flag = is_signature(field_img)\n",
    "        print (flag)\n",
    "        if flag[0] == False:\n",
    "            valid = False\n",
    "            #print ('Not full')\n",
    "            break\n",
    "    return valid"
   ]
  },
  {
   "cell_type": "code",
   "execution_count": null,
   "metadata": {},
   "outputs": [],
   "source": [
    "f = open('text.txt')\n",
    "i = 0\n",
    "for line in f.readlines():\n",
    "    for i in range(len(line):\n",
    "        print(line[i])\n",
    "        "
   ]
  },
  {
   "cell_type": "code",
   "execution_count": null,
   "metadata": {},
   "outputs": [],
   "source": [
    "print (is_valid(test1, nist_rect))"
   ]
  },
  {
   "cell_type": "code",
   "execution_count": null,
   "metadata": {
    "collapsed": true
   },
   "outputs": [],
   "source": []
  },
  {
   "cell_type": "code",
   "execution_count": null,
   "metadata": {
    "collapsed": true
   },
   "outputs": [],
   "source": []
  },
  {
   "cell_type": "code",
   "execution_count": null,
   "metadata": {
    "collapsed": true
   },
   "outputs": [],
   "source": []
  },
  {
   "cell_type": "code",
   "execution_count": null,
   "metadata": {
    "collapsed": true
   },
   "outputs": [],
   "source": []
  }
 ],
 "metadata": {
  "kernelspec": {
   "display_name": "Python 3",
   "language": "python",
   "name": "python3"
  },
  "language_info": {
   "codemirror_mode": {
    "name": "ipython",
    "version": 3
   },
   "file_extension": ".py",
   "mimetype": "text/x-python",
   "name": "python",
   "nbconvert_exporter": "python",
   "pygments_lexer": "ipython3",
   "version": "3.6.3"
  }
 },
 "nbformat": 4,
 "nbformat_minor": 2
}
