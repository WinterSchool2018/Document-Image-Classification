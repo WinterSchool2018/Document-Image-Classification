{
 "cells": [
  {
   "cell_type": "code",
   "execution_count": null,
   "metadata": {
    "collapsed": true
   },
   "outputs": [],
   "source": [
    "import numpy as np\n",
    "import cv2\n",
    "import skimage\n",
    "import matplotlib\n",
    "import matplotlib.pyplot as plt\n",
    "import matplotlib.image as mpimg\n",
    "\n",
    "from skimage import color\n",
    "from skimage import io\n",
    "\n",
    "img = cv2.imread('image.png')\n",
    "imgray = cv2.cvtColor(img,cv2.COLOR_BGR2GRAY)\n",
    "imgray = cv2.bitwise_not(imgray)\n",
    "\n",
    "def rotate_image(img,angle):\n",
    "    rows,cols = img.shape[:2]\n",
    "    M=cv2.getRotationMatrix2D((cols/2,rows/2),angle,1)\n",
    "    dst=cv2.warpAffine(img,M,(cols,rows))\n",
    "    \n",
    "    return dst, M"
   ]
  },
  {
   "cell_type": "code",
   "execution_count": null,
   "metadata": {
    "collapsed": true
   },
   "outputs": [],
   "source": [
    "thresh = cv2.threshold(imgray, 0, 255, cv2.THRESH_BINARY | cv2.THRESH_OTSU)[1]\n",
    "\n",
    "coords = np.column_stack(np.where(thresh > 0))\n",
    "\n",
    "angle = cv2.minAreaRect(coords)[-1]\n",
    "\n",
    "if angle < -45:    \n",
    "    angle = -(90 + angle)\n",
    " \n",
    "else:\n",
    "    angle = -angle\n",
    "\n",
    "print(angle)\n",
    "\n",
    "(img_rot,_)= rotate_image(img, angle)\n",
    "\n",
    "plt.imshow(img_rot)\n",
    "plt.show()\n",
    "\n",
    "cv2.imwrite('image1.png',img_rot)"
   ]
  }
 ],
 "metadata": {
  "kernelspec": {
   "display_name": "Python 3",
   "language": "python",
   "name": "python3"
  },
  "language_info": {
   "codemirror_mode": {
    "name": "ipython",
    "version": 3
   },
   "file_extension": ".py",
   "mimetype": "text/x-python",
   "name": "python",
   "nbconvert_exporter": "python",
   "pygments_lexer": "ipython3",
   "version": "3.6.3"
  }
 },
 "nbformat": 4,
 "nbformat_minor": 2
}
